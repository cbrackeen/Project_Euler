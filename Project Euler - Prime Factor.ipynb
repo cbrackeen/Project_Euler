{
 "cells": [
  {
   "cell_type": "code",
   "execution_count": 1,
   "metadata": {},
   "outputs": [],
   "source": [
    "def is_prime(num):\n",
    "    if num == 2 or num == 3: return True\n",
    "    if num < 2 or num%2 == 0: return False\n",
    "    if num < 9: return True\n",
    "    if num%3 == 0: return False\n",
    "    x = int(num**0.5)\n",
    "    y = 5\n",
    "    while y <= x:\n",
    "        if num%y == 0: return False\n",
    "        if num%(y+2) == 0: return False\n",
    "        y+=6\n",
    "    return True \n",
    "\n",
    "def prime_factor(num):\n",
    "    factors = []\n",
    "    max_num = num\n",
    "    i=2\n",
    "    while max_num > 1:\n",
    "        if is_prime(i):\n",
    "            if max_num%i == 0:\n",
    "                factors.append(i)\n",
    "                max_num = max_num/i\n",
    "        i+=1\n",
    "    return factors[-1]\n",
    "        "
   ]
  },
  {
   "cell_type": "code",
   "execution_count": 2,
   "metadata": {},
   "outputs": [
    {
     "data": {
      "text/plain": [
       "6857"
      ]
     },
     "execution_count": 2,
     "metadata": {},
     "output_type": "execute_result"
    }
   ],
   "source": [
    "prime_factor(600851475143)"
   ]
  },
  {
   "cell_type": "code",
   "execution_count": null,
   "metadata": {},
   "outputs": [],
   "source": []
  }
 ],
 "metadata": {
  "kernelspec": {
   "display_name": "Python 3",
   "language": "python",
   "name": "python3"
  },
  "language_info": {
   "codemirror_mode": {
    "name": "ipython",
    "version": 3
   },
   "file_extension": ".py",
   "mimetype": "text/x-python",
   "name": "python",
   "nbconvert_exporter": "python",
   "pygments_lexer": "ipython3",
   "version": "3.6.4"
  }
 },
 "nbformat": 4,
 "nbformat_minor": 2
}
