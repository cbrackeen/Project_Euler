{
 "cells": [
  {
   "cell_type": "code",
   "execution_count": 36,
   "metadata": {},
   "outputs": [],
   "source": [
    "def is_palindrome(num):\n",
    "    nums = str(num)\n",
    "    if nums == nums[::-1]:\n",
    "        return True\n",
    "    return False\n",
    "\n",
    "def max_palindrome(digit):\n",
    "    mult = 1\n",
    "    largest = 0\n",
    "    if digit > 1:\n",
    "        mult = 10**(digit-1)\n",
    "    for i in range(mult,mult*10):\n",
    "        for j in range(mult,mult*10):\n",
    "            potential = i*j\n",
    "            if is_palindrome(potential):\n",
    "                largest = potential\n",
    "                \n",
    "    return largest\n",
    "        \n",
    "        \n",
    "    \n"
   ]
  },
  {
   "cell_type": "code",
   "execution_count": 40,
   "metadata": {},
   "outputs": [
    {
     "data": {
      "text/plain": [
       "580085"
      ]
     },
     "execution_count": 40,
     "metadata": {},
     "output_type": "execute_result"
    }
   ],
   "source": [
    "max_palindrome(3)"
   ]
  }
 ],
 "metadata": {
  "kernelspec": {
   "display_name": "Python 3",
   "language": "python",
   "name": "python3"
  },
  "language_info": {
   "codemirror_mode": {
    "name": "ipython",
    "version": 3
   },
   "file_extension": ".py",
   "mimetype": "text/x-python",
   "name": "python",
   "nbconvert_exporter": "python",
   "pygments_lexer": "ipython3",
   "version": "3.6.4"
  }
 },
 "nbformat": 4,
 "nbformat_minor": 2
}
