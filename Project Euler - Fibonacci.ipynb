{
 "cells": [
  {
   "cell_type": "code",
   "execution_count": 11,
   "metadata": {},
   "outputs": [],
   "source": [
    "def fibonacci(num):\n",
    "    if num == 1:\n",
    "        return [1]\n",
    "    elif num == 2:\n",
    "        return [1,2]\n",
    "    elif num > 2:\n",
    "        lst = [1,2]\n",
    "        i,j = 0,1\n",
    "        while lst[len(lst)-1] < num:\n",
    "            next_num = lst[i]+lst[j]\n",
    "            lst.append(next_num)\n",
    "            i+=1\n",
    "            j+=1\n",
    "    return lst\n",
    "\n",
    "def even_sum(num):\n",
    "    lst = fibonacci(num)\n",
    "    new = []\n",
    "    for nums in lst:\n",
    "        if nums % 2 ==0:\n",
    "            new.append(nums)\n",
    "    return sum(new)"
   ]
  },
  {
   "cell_type": "code",
   "execution_count": 13,
   "metadata": {},
   "outputs": [
    {
     "data": {
      "text/plain": [
       "4613732"
      ]
     },
     "execution_count": 13,
     "metadata": {},
     "output_type": "execute_result"
    }
   ],
   "source": [
    "even_sum(4000000)"
   ]
  },
  {
   "cell_type": "code",
   "execution_count": null,
   "metadata": {},
   "outputs": [],
   "source": []
  }
 ],
 "metadata": {
  "kernelspec": {
   "display_name": "Python 3",
   "language": "python",
   "name": "python3"
  },
  "language_info": {
   "codemirror_mode": {
    "name": "ipython",
    "version": 3
   },
   "file_extension": ".py",
   "mimetype": "text/x-python",
   "name": "python",
   "nbconvert_exporter": "python",
   "pygments_lexer": "ipython3",
   "version": "3.6.4"
  }
 },
 "nbformat": 4,
 "nbformat_minor": 2
}
