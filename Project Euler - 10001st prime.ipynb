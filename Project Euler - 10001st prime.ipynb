{
 "cells": [
  {
   "cell_type": "code",
   "execution_count": 5,
   "metadata": {},
   "outputs": [],
   "source": [
    "def is_prime(num):\n",
    "    if num == 2 or num == 3: return True\n",
    "    if num < 2 or num%2 == 0: return False\n",
    "    if num < 9: return True\n",
    "    if num%3 == 0: return False\n",
    "    x = int(num**0.5)\n",
    "    y = 5\n",
    "    while y <= x:\n",
    "        if num%y == 0: return False\n",
    "        if num%(y+2) == 0: return False\n",
    "        y+=6\n",
    "    return True   "
   ]
  },
  {
   "cell_type": "code",
   "execution_count": 11,
   "metadata": {},
   "outputs": [],
   "source": [
    "def find_prime(number):\n",
    "    count=0\n",
    "    num=0\n",
    "    prime=0\n",
    "    while count != number:\n",
    "        if is_prime(num):\n",
    "            prime=num\n",
    "            count+=1\n",
    "        num+=1\n",
    "    return prime"
   ]
  },
  {
   "cell_type": "code",
   "execution_count": 13,
   "metadata": {},
   "outputs": [
    {
     "data": {
      "text/plain": [
       "104743"
      ]
     },
     "execution_count": 13,
     "metadata": {},
     "output_type": "execute_result"
    }
   ],
   "source": [
    "find_prime(10001)"
   ]
  },
  {
   "cell_type": "code",
   "execution_count": null,
   "metadata": {},
   "outputs": [],
   "source": []
  }
 ],
 "metadata": {
  "kernelspec": {
   "display_name": "Python 3",
   "language": "python",
   "name": "python3"
  },
  "language_info": {
   "codemirror_mode": {
    "name": "ipython",
    "version": 3
   },
   "file_extension": ".py",
   "mimetype": "text/x-python",
   "name": "python",
   "nbconvert_exporter": "python",
   "pygments_lexer": "ipython3",
   "version": "3.6.4"
  }
 },
 "nbformat": 4,
 "nbformat_minor": 2
}
